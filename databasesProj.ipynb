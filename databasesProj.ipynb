{
 "cells": [
  {
   "cell_type": "code",
   "execution_count": 13,
   "metadata": {},
   "outputs": [
    {
     "data": {
      "text/plain": [
       "{1: 'Electronics',\n",
       " 2: 'Computer Science',\n",
       " 3: 'Management',\n",
       " 4: 'Management',\n",
       " 5: 'Computer Science',\n",
       " 6: 'Computer Science',\n",
       " 7: 'Computer Science',\n",
       " 8: 'Pharmacy',\n",
       " 9: 'Computer Science',\n",
       " 10: 'Management',\n",
       " 11: 'Pharmacy',\n",
       " 12: 'Electronics',\n",
       " 13: 'Pharmacy',\n",
       " 14: 'Management',\n",
       " 15: 'Management',\n",
       " 16: 'Management',\n",
       " 17: 'Computer Science',\n",
       " 18: 'Computer Science',\n",
       " 19: 'Computer Science',\n",
       " 20: 'Management',\n",
       " 21: 'Pharmacy',\n",
       " 22: 'Pharmacy',\n",
       " 23: 'Pharmacy',\n",
       " 24: 'Electronics',\n",
       " 25: 'Computer Science',\n",
       " 26: 'Management',\n",
       " 27: 'Management',\n",
       " 28: 'Computer Science',\n",
       " 29: 'Management',\n",
       " 30: 'Computer Science'}"
      ]
     },
     "execution_count": 13,
     "metadata": {},
     "output_type": "execute_result"
    }
   ],
   "source": [
    "s2 = \"\"\"1,Electronics\n",
    "2,Computer Science\n",
    "3,Management\n",
    "4,Management\n",
    "5,Computer Science\n",
    "6,Computer Science\n",
    "7,Computer Science\n",
    "8,Pharmacy\n",
    "9,Computer Science\n",
    "10,Management\n",
    "11,Pharmacy\n",
    "12,Electronics\n",
    "13,Pharmacy\n",
    "14,Management\n",
    "15,Management\n",
    "16,Management\n",
    "17,Computer Science\n",
    "18,Computer Science\n",
    "19,Computer Science\n",
    "20,Management\n",
    "21,Pharmacy\n",
    "22,Pharmacy\n",
    "23,Pharmacy\n",
    "24,Electronics\n",
    "25,Computer Science\n",
    "26,Management\n",
    "27,Management\n",
    "28,Computer Science\n",
    "29,Management\n",
    "30,Computer Science\"\"\"\n",
    "\n",
    "\n",
    "s2 = s2.split('\\n')\n",
    "s2  = [i.split(',') for i in s2]\n",
    "s2 = [(int(a),b)for a,b in s2]\n",
    "\n",
    "# d2 = {}\n",
    "# for a,b in s2:\n",
    "#     d2[b] = d2.get(b,[]) + [a] \n",
    "# d2\n",
    "d2 = {}\n",
    "for a,b in s2:\n",
    "    d2[a] = b\n",
    "d2"
   ]
  },
  {
   "cell_type": "code",
   "execution_count": 8,
   "metadata": {},
   "outputs": [],
   "source": [
    "d = {\n",
    "    'Electronics': [31,39],\n",
    "    'Computer Science':[32,36,38],\n",
    "    'Management':[34, 37],\n",
    "    'Pharmacy':[33, 35]\n",
    "}"
   ]
  },
  {
   "cell_type": "code",
   "execution_count": 1,
   "id": "39dc7e31-0d34-4f0a-9a36-dbeaf2a0042f",
   "metadata": {},
   "outputs": [],
   "source": [
    "import random as r"
   ]
  },
  {
   "cell_type": "code",
   "execution_count": 2,
   "id": "87a39fa5-8856-403b-95b1-61c516049279",
   "metadata": {},
   "outputs": [
    {
     "data": {
      "text/plain": [
       "'2001-03-10'"
      ]
     },
     "execution_count": 2,
     "metadata": {},
     "output_type": "execute_result"
    }
   ],
   "source": [
    "def rd():\n",
    "    return f\"{2001+r.randint(0,20)}-{str(r.randint(0,11)+1).zfill(2)}-{str(r.randint(0,27)+1).zfill(2)}\"\n",
    "rd()"
   ]
  },
  {
   "cell_type": "code",
   "execution_count": 3,
   "id": "6917253d-ea9e-414d-8133-a86df2212945",
   "metadata": {},
   "outputs": [
    {
     "data": {
      "text/plain": [
       "'tortor rutrum ultrices leo'"
      ]
     },
     "execution_count": 3,
     "metadata": {},
     "output_type": "execute_result"
    }
   ],
   "source": [
    "lorem = \"\"\"Lorem ipsum dolor sit amet, consectetur adipiscing elit. Donec id ligula eget enim rhoncus gravida. Etiam dignissim at ligula ac laoreet. Curabitur efficitur, neque vitae commodo maximus, lorem leo pellentesque lectus, eget egestas felis neque nec lorem. Pellentesque ultricies, risus id venenatis accumsan, risus velit venenatis sem, bibendum fringilla magna ex sed mi. Suspendisse sodales velit ipsum, sed rhoncus leo efficitur eget. Aenean vel libero ac turpis ullamcorper scelerisque. Etiam non leo a ex ornare elementum. Aliquam auctor neque quis arcu egestas pulvinar. Vivamus commodo interdum nisl non sodales. Vivamus mattis sapien nec sapien mattis, nec commodo tortor cursus. Sed condimentum malesuada volutpat. In eu elementum orci. Ut feugiat, turpis sit amet euismod lacinia, nisi ligula accumsan dui, nec semper quam quam ultrices diam. Sed tempor erat sed nisi cursus interdum. Integer bibendum nunc quis massa lacinia luctus.\n",
    "\n",
    "Quisque sollicitudin lorem ligula, non vehicula nunc viverra eget. Vestibulum posuere sapien eget urna vestibulum hendrerit. Sed quis nibh eget enim euismod dictum eu ut nunc. Sed volutpat congue placerat. Ut tristique quam purus, eu vulputate arcu euismod eget. Etiam nunc nisi, lobortis eu orci in, lacinia mollis arcu. Pellentesque sapien nisi, sagittis sit amet posuere eu, interdum in elit. Vivamus dictum tortor ac diam fringilla posuere nec in magna. Nullam vel iaculis mauris. Donec eleifend, tellus sit amet pulvinar finibus, nulla lorem aliquam enim, sed rutrum ex erat nec leo. Etiam hendrerit tempus neque, et placerat massa efficitur et. Suspendisse luctus enim et augue consectetur ultricies. Phasellus consectetur massa ut dictum scelerisque. In leo neque, cursus ac leo pulvinar, finibus lacinia lacus. Cras imperdiet varius turpis eget feugiat.\n",
    "\n",
    "Maecenas vestibulum tellus et diam efficitur, in lobortis eros pellentesque. Phasellus consequat suscipit sapien sit amet tempor. Cras sed erat turpis. Donec sollicitudin pulvinar felis non fringilla. Praesent in facilisis urna. In at consequat erat. In hac habitasse platea dictumst. Suspendisse mollis posuere semper. Quisque feugiat lobortis neque vitae euismod. Vestibulum accumsan blandit turpis, non eleifend tellus varius id. Vivamus tincidunt metus nulla, sed porttitor enim vestibulum non. Orci varius natoque penatibus et magnis dis parturient montes, nascetur ridiculus mus. Phasellus vitae mi ipsum. Nunc ut tortor rutrum, ultrices leo nec, vehicula arcu.\n",
    "\n",
    "Nulla facilisi. Praesent fringilla libero ex, vel imperdiet lorem facilisis ac. Cras cursus porttitor leo, nec egestas nisi sodales et. Aliquam orci nunc, dictum quis augue ac, mattis dapibus libero. Etiam vel tortor nec purus mattis bibendum. Ut consequat dui a sapien suscipit ornare. Suspendisse non fermentum purus, eget placerat erat. Suspendisse est nulla, fringilla ut feugiat vel, pulvinar eu odio. Nam dolor velit, malesuada facilisis elit eget, finibus ultrices neque. Nullam ipsum lacus, mollis nec diam a, rutrum tempus nulla.\n",
    "\n",
    "Quisque volutpat nulla vel massa faucibus consequat. Aliquam pulvinar enim in aliquam sollicitudin. Morbi venenatis ullamcorper neque, quis finibus urna placerat et. Nam convallis, nisl non tempor porttitor, elit risus maximus eros, eget semper metus urna in tortor. Mauris elementum lorem eget egestas scelerisque. Sed ullamcorper orci leo. Praesent in tincidunt felis, vel malesuada quam. Quisque efficitur molestie justo.\"\"\"\n",
    "\n",
    "lorem = lorem.replace('\\s', ' ')\n",
    "lorem = lorem.replace('\\n', ' ')\n",
    "lorem = lorem.replace('.','')\n",
    "lorem = lorem.replace(',','')\n",
    "lorem = lorem.split(' ')\n",
    "def rs(n=4):\n",
    "    x=r.randint(0,len(lorem)-n-1)\n",
    "    return \" \".join(lorem[x:x+n])\n",
    "rs()"
   ]
  },
  {
   "cell_type": "code",
   "execution_count": 16,
   "id": "b926904b-a072-456d-aae0-cb1c9ac52db0",
   "metadata": {},
   "outputs": [
    {
     "name": "stdout",
     "output_type": "stream",
     "text": [
      "INSERT INTO GUCianProgressReport(sid,no,date,eval,state,thesisSerialNumber,stupid) VALUES (4,1,'2005-04-20','in facilisis urna In','diam efficitur',1,37)\n",
      "INSERT INTO GUCianProgressReport(sid,no,date,eval,state,thesisSerialNumber,stupid) VALUES (4,2,'2005-04-06','et Aliquam orci nunc','nulla vel',1,34)\n",
      "INSERT INTO GUCianProgressReport(sid,no,date,eval,state,thesisSerialNumber,stupid) VALUES (5,1,'2017-05-26','ultricies risus id venenatis','vel massa',2,38)\n",
      "INSERT INTO GUCianProgressReport(sid,no,date,eval,state,thesisSerialNumber,stupid) VALUES (5,2,'2014-03-07','felis vel malesuada quam','orci nunc',2,38)\n",
      "INSERT INTO GUCianProgressReport(sid,no,date,eval,state,thesisSerialNumber,stupid) VALUES (6,1,'2010-10-25','sodales Vivamus mattis sapien','sapien eget',3,36)\n",
      "INSERT INTO GUCianProgressReport(sid,no,date,eval,state,thesisSerialNumber,stupid) VALUES (6,2,'2008-11-27','Cras cursus porttitor leo','rhoncus leo',3,38)\n",
      "INSERT INTO GUCianProgressReport(sid,no,date,eval,state,thesisSerialNumber,stupid) VALUES (7,1,'2009-10-01','sapien nisi sagittis sit','tempor Cras',4,36)\n",
      "INSERT INTO GUCianProgressReport(sid,no,date,eval,state,thesisSerialNumber,stupid) VALUES (8,1,'2004-09-23','egestas felis neque nec','ultrices leo',5,35)\n",
      "INSERT INTO GUCianProgressReport(sid,no,date,eval,state,thesisSerialNumber,stupid) VALUES (9,1,'2014-08-05','semper Quisque feugiat lobortis','facilisis elit',6,38)\n",
      "INSERT INTO GUCianProgressReport(sid,no,date,eval,state,thesisSerialNumber,stupid) VALUES (11,1,'2014-12-08','neque quis arcu egestas','risus velit',7,35)\n",
      "INSERT INTO GUCianProgressReport(sid,no,date,eval,state,thesisSerialNumber,stupid) VALUES (11,2,'2015-07-27','sapien mattis nec commodo','mus Phasellus',7,33)\n",
      "INSERT INTO GUCianProgressReport(sid,no,date,eval,state,thesisSerialNumber,stupid) VALUES (12,1,'2018-10-24','accumsan blandit turpis non','vestibulum hendrerit',8,31)\n",
      "INSERT INTO GUCianProgressReport(sid,no,date,eval,state,thesisSerialNumber,stupid) VALUES (12,2,'2021-06-10','eu elementum orci Ut','felis vel',8,39)\n",
      "INSERT INTO GUCianProgressReport(sid,no,date,eval,state,thesisSerialNumber,stupid) VALUES (13,1,'2021-11-10','Nullam vel iaculis mauris','Ut tristique',9,35)\n",
      "INSERT INTO GUCianProgressReport(sid,no,date,eval,state,thesisSerialNumber,stupid) VALUES (13,2,'2007-10-03','Donec eleifend tellus sit','orci leo',9,33)\n",
      "INSERT INTO GUCianProgressReport(sid,no,date,eval,state,thesisSerialNumber,stupid) VALUES (14,1,'2016-08-08','mattis sapien nec sapien','in aliquam',10,37)\n",
      "INSERT INTO GUCianProgressReport(sid,no,date,eval,state,thesisSerialNumber,stupid) VALUES (14,2,'2011-04-14','nascetur ridiculus mus Phasellus','fringilla posuere',10,37)\n",
      "INSERT INTO GUCianProgressReport(sid,no,date,eval,state,thesisSerialNumber,stupid) VALUES (15,1,'2017-03-23','semper Quisque feugiat lobortis','Donec sollicitudin',11,34)\n",
      "INSERT INTO NonGUCianProgressReport(sid,no,date,eval,state,thesisSerialNumber,stupid) VALUES (18,1,'2012-05-15','ac mattis dapibus libero','eget Aenean',12,32)\n",
      "INSERT INTO NonGUCianProgressReport(sid,no,date,eval,state,thesisSerialNumber,stupid) VALUES (19,1,'2017-09-14','metus urna in tortor','leo nec',13,36)\n",
      "INSERT INTO NonGUCianProgressReport(sid,no,date,eval,state,thesisSerialNumber,stupid) VALUES (19,2,'2010-05-09',' Quisque volutpat nulla','felis neque',13,36)\n",
      "INSERT INTO NonGUCianProgressReport(sid,no,date,eval,state,thesisSerialNumber,stupid) VALUES (20,1,'2007-07-16','non tempor porttitor elit','consectetur massa',14,37)\n",
      "INSERT INTO NonGUCianProgressReport(sid,no,date,eval,state,thesisSerialNumber,stupid) VALUES (21,1,'2009-02-12','porttitor leo nec egestas','hendrerit Sed',15,33)\n",
      "INSERT INTO NonGUCianProgressReport(sid,no,date,eval,state,thesisSerialNumber,stupid) VALUES (21,2,'2014-01-11','efficitur eget Aenean vel','scelerisque Etiam',15,35)\n",
      "INSERT INTO NonGUCianProgressReport(sid,no,date,eval,state,thesisSerialNumber,stupid) VALUES (22,1,'2003-05-21','libero Etiam vel tortor','tortor cursus',16,33)\n",
      "INSERT INTO NonGUCianProgressReport(sid,no,date,eval,state,thesisSerialNumber,stupid) VALUES (23,1,'2017-12-23','nibh eget enim euismod','ultrices leo',17,33)\n",
      "INSERT INTO NonGUCianProgressReport(sid,no,date,eval,state,thesisSerialNumber,stupid) VALUES (24,1,'2011-06-28','turpis ullamcorper scelerisque Etiam','accumsan blandit',18,31)\n",
      "INSERT INTO NonGUCianProgressReport(sid,no,date,eval,state,thesisSerialNumber,stupid) VALUES (24,2,'2005-09-04','in lobortis eros pellentesque','nulla lorem',18,31)\n",
      "INSERT INTO NonGUCianProgressReport(sid,no,date,eval,state,thesisSerialNumber,stupid) VALUES (25,1,'2006-11-15','dictum tortor ac diam','tortor rutrum',19,36)\n",
      "INSERT INTO NonGUCianProgressReport(sid,no,date,eval,state,thesisSerialNumber,stupid) VALUES (25,2,'2011-09-10','placerat et Nam convallis','leo neque',19,38)\n",
      "INSERT INTO NonGUCianProgressReport(sid,no,date,eval,state,thesisSerialNumber,stupid) VALUES (26,1,'2013-08-07','ullamcorper orci leo Praesent','sollicitudin Morbi',20,37)\n",
      "INSERT INTO NonGUCianProgressReport(sid,no,date,eval,state,thesisSerialNumber,stupid) VALUES (26,2,'2016-11-14','vel iaculis mauris Donec','vel libero',20,34)\n",
      "INSERT INTO NonGUCianProgressReport(sid,no,date,eval,state,thesisSerialNumber,stupid) VALUES (27,1,'2017-04-25','enim et augue consectetur','parturient montes',21,34)\n",
      "INSERT INTO NonGUCianProgressReport(sid,no,date,eval,state,thesisSerialNumber,stupid) VALUES (28,1,'2009-07-03','eget urna vestibulum hendrerit','ac turpis',22,38)\n",
      "INSERT INTO NonGUCianProgressReport(sid,no,date,eval,state,thesisSerialNumber,stupid) VALUES (29,1,'2003-01-23','leo nec egestas nisi','pulvinar Vivamus',23,34)\n",
      "INSERT INTO NonGUCianProgressReport(sid,no,date,eval,state,thesisSerialNumber,stupid) VALUES (29,2,'2006-05-26','nec leo Etiam hendrerit','ac mattis',23,34)\n",
      "INSERT INTO GUCianStudentRegisterThesis (sid, supid, serial_no) VALUES (4, 34, 1)\n",
      "INSERT INTO GUCianStudentRegisterThesis (sid, supid, serial_no) VALUES (4, 37, 1)\n",
      "INSERT INTO GUCianStudentRegisterThesis (sid, supid, serial_no) VALUES (5, 38, 2)\n",
      "INSERT INTO GUCianStudentRegisterThesis (sid, supid, serial_no) VALUES (6, 38, 3)\n",
      "INSERT INTO GUCianStudentRegisterThesis (sid, supid, serial_no) VALUES (6, 36, 3)\n",
      "INSERT INTO GUCianStudentRegisterThesis (sid, supid, serial_no) VALUES (7, 36, 4)\n",
      "INSERT INTO GUCianStudentRegisterThesis (sid, supid, serial_no) VALUES (8, 35, 5)\n",
      "INSERT INTO GUCianStudentRegisterThesis (sid, supid, serial_no) VALUES (9, 38, 6)\n",
      "INSERT INTO GUCianStudentRegisterThesis (sid, supid, serial_no) VALUES (11, 33, 7)\n",
      "INSERT INTO GUCianStudentRegisterThesis (sid, supid, serial_no) VALUES (11, 35, 7)\n",
      "INSERT INTO GUCianStudentRegisterThesis (sid, supid, serial_no) VALUES (12, 39, 8)\n",
      "INSERT INTO GUCianStudentRegisterThesis (sid, supid, serial_no) VALUES (12, 31, 8)\n",
      "INSERT INTO GUCianStudentRegisterThesis (sid, supid, serial_no) VALUES (13, 35, 9)\n",
      "INSERT INTO GUCianStudentRegisterThesis (sid, supid, serial_no) VALUES (13, 33, 9)\n",
      "INSERT INTO GUCianStudentRegisterThesis (sid, supid, serial_no) VALUES (14, 37, 10)\n",
      "INSERT INTO GUCianStudentRegisterThesis (sid, supid, serial_no) VALUES (15, 34, 11)\n",
      "INSERT INTO NonGUCianStudentRegisterThesis (sid, supid, serial_no) VALUES (18, 32, 12)\n",
      "INSERT INTO NonGUCianStudentRegisterThesis (sid, supid, serial_no) VALUES (19, 36, 13)\n",
      "INSERT INTO NonGUCianStudentRegisterThesis (sid, supid, serial_no) VALUES (20, 37, 14)\n",
      "INSERT INTO NonGUCianStudentRegisterThesis (sid, supid, serial_no) VALUES (21, 35, 15)\n",
      "INSERT INTO NonGUCianStudentRegisterThesis (sid, supid, serial_no) VALUES (21, 33, 15)\n",
      "INSERT INTO NonGUCianStudentRegisterThesis (sid, supid, serial_no) VALUES (22, 33, 16)\n",
      "INSERT INTO NonGUCianStudentRegisterThesis (sid, supid, serial_no) VALUES (23, 33, 17)\n",
      "INSERT INTO NonGUCianStudentRegisterThesis (sid, supid, serial_no) VALUES (24, 31, 18)\n",
      "INSERT INTO NonGUCianStudentRegisterThesis (sid, supid, serial_no) VALUES (25, 38, 19)\n",
      "INSERT INTO NonGUCianStudentRegisterThesis (sid, supid, serial_no) VALUES (25, 36, 19)\n",
      "INSERT INTO NonGUCianStudentRegisterThesis (sid, supid, serial_no) VALUES (26, 37, 20)\n",
      "INSERT INTO NonGUCianStudentRegisterThesis (sid, supid, serial_no) VALUES (26, 34, 20)\n",
      "INSERT INTO NonGUCianStudentRegisterThesis (sid, supid, serial_no) VALUES (27, 34, 21)\n",
      "INSERT INTO NonGUCianStudentRegisterThesis (sid, supid, serial_no) VALUES (28, 38, 22)\n",
      "INSERT INTO NonGUCianStudentRegisterThesis (sid, supid, serial_no) VALUES (29, 34, 23)\n"
     ]
    }
   ],
   "source": [
    "gl = 0\n",
    "tp = []\n",
    "for sid in range(1,16):\n",
    "    n = min([r.randint(0,2)])\n",
    "    if n:\n",
    "        gl += 1\n",
    "    se = set()\n",
    "    for i in range(n):\n",
    "        sup = r.choice(d[d2[sid]])\n",
    "        se.add((sup,gl))\n",
    "        s = f\"INSERT INTO GUCianProgressReport(sid,no,date,eval,state,thesisSerialNumber,stupid) VALUES ({sid},{i+1},'{rd()}','{rs()}','{rs(2)}',{gl},{sup})\"\n",
    "        print(s)\n",
    "        \n",
    "    for sup,no in se:\n",
    "        s = f\"INSERT INTO GUCianStudentRegisterThesis (sid, supid, serial_no) VALUES ({sid}, {sup}, {no})\"\n",
    "        tp.append(s)\n",
    "        \n",
    "for sid in range(16,31):\n",
    "    n = min([r.randint(0,2)])\n",
    "    if n:\n",
    "        gl += 1\n",
    "    se = set()\n",
    "    for i in range(n):\n",
    "        sup = r.choice(d[d2[sid]])\n",
    "        se.add((sup,gl))\n",
    "        s = f\"INSERT INTO NonGUCianProgressReport(sid,no,date,eval,state,thesisSerialNumber,stupid) VALUES ({sid},{i+1},'{rd()}','{rs()}','{rs(2)}',{gl},{sup})\"\n",
    "        print(s)\n",
    "    for sup,no in se:\n",
    "        s = f\"INSERT INTO NonGUCianStudentRegisterThesis (sid, supid, serial_no) VALUES ({sid}, {sup}, {no})\"\n",
    "        tp.append(s)\n",
    "print(*tp,sep='\\n')"
   ]
  },
  {
   "cell_type": "code",
   "execution_count": null,
   "id": "d1074e4b-963f-4926-a3d1-704a2129ca23",
   "metadata": {},
   "outputs": [],
   "source": []
  },
  {
   "cell_type": "code",
   "execution_count": null,
   "id": "98609b00-b2fc-42d3-bcc7-ab77b27703ed",
   "metadata": {},
   "outputs": [],
   "source": []
  }
 ],
 "metadata": {
  "interpreter": {
   "hash": "916dbcbb3f70747c44a77c7bcd40155683ae19c65e1c03b4aa3499c5328201f1"
  },
  "kernelspec": {
   "display_name": "Python 3.8.10 64-bit",
   "name": "python3"
  },
  "language_info": {
   "codemirror_mode": {
    "name": "ipython",
    "version": 3
   },
   "file_extension": ".py",
   "mimetype": "text/x-python",
   "name": "python",
   "nbconvert_exporter": "python",
   "pygments_lexer": "ipython3",
   "version": "3.8.10"
  }
 },
 "nbformat": 4,
 "nbformat_minor": 5
}
