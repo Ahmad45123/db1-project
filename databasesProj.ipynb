{
 "cells": [
  {
   "cell_type": "code",
   "execution_count": 2,
   "metadata": {},
   "outputs": [
    {
     "data": {
      "text/plain": [
       "{1: 'Electronics',\n",
       " 2: 'Computer Science',\n",
       " 3: 'Management',\n",
       " 4: 'Management',\n",
       " 5: 'Computer Science',\n",
       " 6: 'Computer Science',\n",
       " 7: 'Computer Science',\n",
       " 8: 'Pharmacy',\n",
       " 9: 'Computer Science',\n",
       " 10: 'Management',\n",
       " 11: 'Pharmacy',\n",
       " 12: 'Electronics',\n",
       " 13: 'Pharmacy',\n",
       " 14: 'Management',\n",
       " 15: 'Management',\n",
       " 16: 'Management',\n",
       " 17: 'Computer Science',\n",
       " 18: 'Computer Science',\n",
       " 19: 'Computer Science',\n",
       " 20: 'Management',\n",
       " 21: 'Pharmacy',\n",
       " 22: 'Pharmacy',\n",
       " 23: 'Pharmacy',\n",
       " 24: 'Electronics',\n",
       " 25: 'Computer Science',\n",
       " 26: 'Management',\n",
       " 27: 'Management',\n",
       " 28: 'Computer Science',\n",
       " 29: 'Management',\n",
       " 30: 'Computer Science'}"
      ]
     },
     "execution_count": 2,
     "metadata": {},
     "output_type": "execute_result"
    }
   ],
   "source": [
    "s2 = \"\"\"1,Electronics\n",
    "2,Computer Science\n",
    "3,Management\n",
    "4,Management\n",
    "5,Computer Science\n",
    "6,Computer Science\n",
    "7,Computer Science\n",
    "8,Pharmacy\n",
    "9,Computer Science\n",
    "10,Management\n",
    "11,Pharmacy\n",
    "12,Electronics\n",
    "13,Pharmacy\n",
    "14,Management\n",
    "15,Management\n",
    "16,Management\n",
    "17,Computer Science\n",
    "18,Computer Science\n",
    "19,Computer Science\n",
    "20,Management\n",
    "21,Pharmacy\n",
    "22,Pharmacy\n",
    "23,Pharmacy\n",
    "24,Electronics\n",
    "25,Computer Science\n",
    "26,Management\n",
    "27,Management\n",
    "28,Computer Science\n",
    "29,Management\n",
    "30,Computer Science\"\"\"\n",
    "\n",
    "\n",
    "s2 = s2.split('\\n')\n",
    "s2  = [i.split(',') for i in s2]\n",
    "s2 = [(int(a),b)for a,b in s2]\n",
    "\n",
    "# d2 = {}\n",
    "# for a,b in s2:\n",
    "#     d2[b] = d2.get(b,[]) + [a] \n",
    "# d2\n",
    "d2 = {}\n",
    "for a,b in s2:\n",
    "    d2[a] = b\n",
    "d2"
   ]
  },
  {
   "cell_type": "code",
   "execution_count": 3,
   "metadata": {},
   "outputs": [],
   "source": [
    "d = {\n",
    "    'Electronics': [31,39],\n",
    "    'Computer Science':[32,36,38],\n",
    "    'Management':[34, 37],\n",
    "    'Pharmacy':[33, 35]\n",
    "}"
   ]
  },
  {
   "cell_type": "code",
   "execution_count": 4,
   "id": "39dc7e31-0d34-4f0a-9a36-dbeaf2a0042f",
   "metadata": {},
   "outputs": [],
   "source": [
    "import random as r"
   ]
  },
  {
   "cell_type": "code",
   "execution_count": 5,
   "id": "87a39fa5-8856-403b-95b1-61c516049279",
   "metadata": {},
   "outputs": [
    {
     "data": {
      "text/plain": [
       "'2011-05-18'"
      ]
     },
     "execution_count": 5,
     "metadata": {},
     "output_type": "execute_result"
    }
   ],
   "source": [
    "def rd():\n",
    "    return f\"{2001+r.randint(0,20)}-{str(r.randint(0,11)+1).zfill(2)}-{str(r.randint(0,27)+1).zfill(2)}\"\n",
    "rd()"
   ]
  },
  {
   "cell_type": "code",
   "execution_count": 6,
   "id": "6917253d-ea9e-414d-8133-a86df2212945",
   "metadata": {},
   "outputs": [
    {
     "data": {
      "text/plain": [
       "'euismod lacinia nisi ligula'"
      ]
     },
     "execution_count": 6,
     "metadata": {},
     "output_type": "execute_result"
    }
   ],
   "source": [
    "lorem = \"\"\"Lorem ipsum dolor sit amet, consectetur adipiscing elit. Donec id ligula eget enim rhoncus gravida. Etiam dignissim at ligula ac laoreet. Curabitur efficitur, neque vitae commodo maximus, lorem leo pellentesque lectus, eget egestas felis neque nec lorem. Pellentesque ultricies, risus id venenatis accumsan, risus velit venenatis sem, bibendum fringilla magna ex sed mi. Suspendisse sodales velit ipsum, sed rhoncus leo efficitur eget. Aenean vel libero ac turpis ullamcorper scelerisque. Etiam non leo a ex ornare elementum. Aliquam auctor neque quis arcu egestas pulvinar. Vivamus commodo interdum nisl non sodales. Vivamus mattis sapien nec sapien mattis, nec commodo tortor cursus. Sed condimentum malesuada volutpat. In eu elementum orci. Ut feugiat, turpis sit amet euismod lacinia, nisi ligula accumsan dui, nec semper quam quam ultrices diam. Sed tempor erat sed nisi cursus interdum. Integer bibendum nunc quis massa lacinia luctus.\n",
    "\n",
    "Quisque sollicitudin lorem ligula, non vehicula nunc viverra eget. Vestibulum posuere sapien eget urna vestibulum hendrerit. Sed quis nibh eget enim euismod dictum eu ut nunc. Sed volutpat congue placerat. Ut tristique quam purus, eu vulputate arcu euismod eget. Etiam nunc nisi, lobortis eu orci in, lacinia mollis arcu. Pellentesque sapien nisi, sagittis sit amet posuere eu, interdum in elit. Vivamus dictum tortor ac diam fringilla posuere nec in magna. Nullam vel iaculis mauris. Donec eleifend, tellus sit amet pulvinar finibus, nulla lorem aliquam enim, sed rutrum ex erat nec leo. Etiam hendrerit tempus neque, et placerat massa efficitur et. Suspendisse luctus enim et augue consectetur ultricies. Phasellus consectetur massa ut dictum scelerisque. In leo neque, cursus ac leo pulvinar, finibus lacinia lacus. Cras imperdiet varius turpis eget feugiat.\n",
    "\n",
    "Maecenas vestibulum tellus et diam efficitur, in lobortis eros pellentesque. Phasellus consequat suscipit sapien sit amet tempor. Cras sed erat turpis. Donec sollicitudin pulvinar felis non fringilla. Praesent in facilisis urna. In at consequat erat. In hac habitasse platea dictumst. Suspendisse mollis posuere semper. Quisque feugiat lobortis neque vitae euismod. Vestibulum accumsan blandit turpis, non eleifend tellus varius id. Vivamus tincidunt metus nulla, sed porttitor enim vestibulum non. Orci varius natoque penatibus et magnis dis parturient montes, nascetur ridiculus mus. Phasellus vitae mi ipsum. Nunc ut tortor rutrum, ultrices leo nec, vehicula arcu.\n",
    "\n",
    "Nulla facilisi. Praesent fringilla libero ex, vel imperdiet lorem facilisis ac. Cras cursus porttitor leo, nec egestas nisi sodales et. Aliquam orci nunc, dictum quis augue ac, mattis dapibus libero. Etiam vel tortor nec purus mattis bibendum. Ut consequat dui a sapien suscipit ornare. Suspendisse non fermentum purus, eget placerat erat. Suspendisse est nulla, fringilla ut feugiat vel, pulvinar eu odio. Nam dolor velit, malesuada facilisis elit eget, finibus ultrices neque. Nullam ipsum lacus, mollis nec diam a, rutrum tempus nulla.\n",
    "\n",
    "Quisque volutpat nulla vel massa faucibus consequat. Aliquam pulvinar enim in aliquam sollicitudin. Morbi venenatis ullamcorper neque, quis finibus urna placerat et. Nam convallis, nisl non tempor porttitor, elit risus maximus eros, eget semper metus urna in tortor. Mauris elementum lorem eget egestas scelerisque. Sed ullamcorper orci leo. Praesent in tincidunt felis, vel malesuada quam. Quisque efficitur molestie justo.\"\"\"\n",
    "\n",
    "lorem = lorem.replace('\\s', ' ')\n",
    "lorem = lorem.replace('\\n', ' ')\n",
    "lorem = lorem.replace('.','')\n",
    "lorem = lorem.replace(',','')\n",
    "lorem = lorem.split(' ')\n",
    "def rs(n=4):\n",
    "    x=r.randint(0,len(lorem)-n-1)\n",
    "    return \" \".join(lorem[x:x+n])\n",
    "rs()"
   ]
  },
  {
   "cell_type": "code",
   "execution_count": 7,
   "id": "b926904b-a072-456d-aae0-cb1c9ac52db0",
   "metadata": {},
   "outputs": [
    {
     "name": "stdout",
     "output_type": "stream",
     "text": [
      "INSERT INTO GUCianProgressReport(sid,no,date,eval,state,thesisSerialNumber,stupid) VALUES (1,1,'2009-08-16','80','diam fringilla',1,31)\n",
      "INSERT INTO GUCianProgressReport(sid,no,date,eval,state,thesisSerialNumber,stupid) VALUES (1,2,'2017-07-28','97','cursus porttitor',1,39)\n",
      "INSERT INTO GUCianProgressReport(sid,no,date,eval,state,thesisSerialNumber,stupid) VALUES (2,1,'2004-10-25','25','auctor neque',2,36)\n",
      "INSERT INTO GUCianProgressReport(sid,no,date,eval,state,thesisSerialNumber,stupid) VALUES (3,1,'2018-05-04','73','ipsum dolor',3,37)\n",
      "INSERT INTO GUCianProgressReport(sid,no,date,eval,state,thesisSerialNumber,stupid) VALUES (4,1,'2016-09-11','29','euismod Vestibulum',4,37)\n",
      "INSERT INTO GUCianProgressReport(sid,no,date,eval,state,thesisSerialNumber,stupid) VALUES (5,1,'2005-12-23','21','eget urna',5,36)\n",
      "INSERT INTO GUCianProgressReport(sid,no,date,eval,state,thesisSerialNumber,stupid) VALUES (5,2,'2007-12-07','13','non eleifend',5,36)\n",
      "INSERT INTO GUCianProgressReport(sid,no,date,eval,state,thesisSerialNumber,stupid) VALUES (7,1,'2012-03-10','69','dolor sit',7,32)\n",
      "INSERT INTO GUCianProgressReport(sid,no,date,eval,state,thesisSerialNumber,stupid) VALUES (11,1,'2009-04-28','32','leo a',11,33)\n",
      "INSERT INTO GUCianProgressReport(sid,no,date,eval,state,thesisSerialNumber,stupid) VALUES (11,2,'2021-11-03','49','sollicitudin pulvinar',11,35)\n",
      "INSERT INTO GUCianProgressReport(sid,no,date,eval,state,thesisSerialNumber,stupid) VALUES (13,1,'2002-03-27','94','vel tortor',13,33)\n",
      "INSERT INTO GUCianProgressReport(sid,no,date,eval,state,thesisSerialNumber,stupid) VALUES (13,2,'2019-11-05','47','sem bibendum',13,33)\n",
      "INSERT INTO GUCianProgressReport(sid,no,date,eval,state,thesisSerialNumber,stupid) VALUES (15,1,'2003-04-09','81','sapien mattis',15,34)\n",
      "INSERT INTO GUCianProgressReport(sid,no,date,eval,state,thesisSerialNumber,stupid) VALUES (15,2,'2005-04-17','97','eu ut',15,34)\n",
      "INSERT INTO NonGUCianProgressReport(sid,no,date,eval,state,thesisSerialNumber,stupid) VALUES (16,1,'2013-11-25','3','Etiam vel',16,34)\n",
      "INSERT INTO NonGUCianProgressReport(sid,no,date,eval,state,thesisSerialNumber,stupid) VALUES (16,2,'2002-01-03','29','orci Ut',16,37)\n",
      "INSERT INTO NonGUCianProgressReport(sid,no,date,eval,state,thesisSerialNumber,stupid) VALUES (17,1,'2020-06-20','2','nisi ligula',17,32)\n",
      "INSERT INTO NonGUCianProgressReport(sid,no,date,eval,state,thesisSerialNumber,stupid) VALUES (17,2,'2021-03-10','11','congue placerat',17,32)\n",
      "INSERT INTO NonGUCianProgressReport(sid,no,date,eval,state,thesisSerialNumber,stupid) VALUES (18,1,'2020-08-27','85','consequat suscipit',18,36)\n",
      "INSERT INTO NonGUCianProgressReport(sid,no,date,eval,state,thesisSerialNumber,stupid) VALUES (18,2,'2008-09-18','49','Aliquam orci',18,36)\n",
      "INSERT INTO NonGUCianProgressReport(sid,no,date,eval,state,thesisSerialNumber,stupid) VALUES (21,1,'2011-12-16','23','efficitur neque',21,35)\n",
      "INSERT INTO NonGUCianProgressReport(sid,no,date,eval,state,thesisSerialNumber,stupid) VALUES (24,1,'2003-12-07','3','Curabitur efficitur',24,31)\n",
      "INSERT INTO NonGUCianProgressReport(sid,no,date,eval,state,thesisSerialNumber,stupid) VALUES (24,2,'2017-08-04','85','neque Nullam',24,39)\n",
      "INSERT INTO NonGUCianProgressReport(sid,no,date,eval,state,thesisSerialNumber,stupid) VALUES (26,1,'2009-10-05','37','rutrum tempus',26,37)\n",
      "INSERT INTO NonGUCianProgressReport(sid,no,date,eval,state,thesisSerialNumber,stupid) VALUES (26,2,'2014-12-06','39','Suspendisse sodales',26,37)\n",
      "INSERT INTO NonGUCianProgressReport(sid,no,date,eval,state,thesisSerialNumber,stupid) VALUES (27,1,'2016-08-08','13','amet consectetur',27,34)\n",
      "INSERT INTO GUCianStudentRegisterThesis (sid, supid, serial_no) VALUES (1, 39, 1)\n",
      "INSERT INTO GUCianStudentRegisterThesis (sid, supid, serial_no) VALUES (1, 31, 1)\n",
      "INSERT INTO GUCianStudentRegisterThesis (sid, supid, serial_no) VALUES (2, 36, 2)\n",
      "INSERT INTO GUCianStudentRegisterThesis (sid, supid, serial_no) VALUES (3, 37, 3)\n",
      "INSERT INTO GUCianStudentRegisterThesis (sid, supid, serial_no) VALUES (4, 37, 4)\n",
      "INSERT INTO GUCianStudentRegisterThesis (sid, supid, serial_no) VALUES (5, 36, 5)\n",
      "INSERT INTO GUCianStudentRegisterThesis (sid, supid, serial_no) VALUES (7, 32, 7)\n",
      "INSERT INTO GUCianStudentRegisterThesis (sid, supid, serial_no) VALUES (11, 33, 11)\n",
      "INSERT INTO GUCianStudentRegisterThesis (sid, supid, serial_no) VALUES (11, 35, 11)\n",
      "INSERT INTO GUCianStudentRegisterThesis (sid, supid, serial_no) VALUES (13, 33, 13)\n",
      "INSERT INTO GUCianStudentRegisterThesis (sid, supid, serial_no) VALUES (15, 34, 15)\n",
      "INSERT INTO NonGUCianStudentRegisterThesis (sid, supid, serial_no) VALUES (16, 34, 16)\n",
      "INSERT INTO NonGUCianStudentRegisterThesis (sid, supid, serial_no) VALUES (16, 37, 16)\n",
      "INSERT INTO NonGUCianStudentRegisterThesis (sid, supid, serial_no) VALUES (17, 32, 17)\n",
      "INSERT INTO NonGUCianStudentRegisterThesis (sid, supid, serial_no) VALUES (18, 36, 18)\n",
      "INSERT INTO NonGUCianStudentRegisterThesis (sid, supid, serial_no) VALUES (21, 35, 21)\n",
      "INSERT INTO NonGUCianStudentRegisterThesis (sid, supid, serial_no) VALUES (24, 39, 24)\n",
      "INSERT INTO NonGUCianStudentRegisterThesis (sid, supid, serial_no) VALUES (24, 31, 24)\n",
      "INSERT INTO NonGUCianStudentRegisterThesis (sid, supid, serial_no) VALUES (26, 37, 26)\n",
      "INSERT INTO NonGUCianStudentRegisterThesis (sid, supid, serial_no) VALUES (27, 34, 27)\n"
     ]
    }
   ],
   "source": [
    "gl = 0\n",
    "tp = []\n",
    "for sid in range(1,16):\n",
    "    n = min([r.randint(0,2)])\n",
    "    gl = sid\n",
    "    se = set()\n",
    "    for i in range(n):\n",
    "        sup = r.choice(d[d2[sid]])\n",
    "        se.add((sup,gl))\n",
    "        s = f\"INSERT INTO GUCianProgressReport(sid,no,date,eval,state,thesisSerialNumber,stupid) VALUES ({sid},{i+1},'{rd()}','{r.randint(1,100)}','{rs(2)}',{gl},{sup})\"\n",
    "        print(s)\n",
    "        \n",
    "    for sup,no in se:\n",
    "        s = f\"INSERT INTO GUCianStudentRegisterThesis (sid, supid, serial_no) VALUES ({sid}, {sup}, {no})\"\n",
    "        tp.append(s)\n",
    "        \n",
    "for sid in range(16,31):\n",
    "    n = min([r.randint(0,2)])\n",
    "    gl = sid\n",
    "    se = set()\n",
    "    for i in range(n):\n",
    "        sup = r.choice(d[d2[sid]])\n",
    "        se.add((sup,gl))\n",
    "        s = f\"INSERT INTO NonGUCianProgressReport(sid,no,date,eval,state,thesisSerialNumber,stupid) VALUES ({sid},{i+1},'{rd()}','{r.randint(1,100)}','{rs(2)}',{gl},{sup})\"\n",
    "        print(s)\n",
    "    for sup,no in se:\n",
    "        s = f\"INSERT INTO NonGUCianStudentRegisterThesis (sid, supid, serial_no) VALUES ({sid}, {sup}, {no})\"\n",
    "        tp.append(s)\n",
    "print(*tp,sep='\\n')"
   ]
  },
  {
   "cell_type": "code",
   "execution_count": null,
   "id": "d1074e4b-963f-4926-a3d1-704a2129ca23",
   "metadata": {},
   "outputs": [],
   "source": []
  },
  {
   "cell_type": "code",
   "execution_count": null,
   "id": "98609b00-b2fc-42d3-bcc7-ab77b27703ed",
   "metadata": {},
   "outputs": [],
   "source": []
  }
 ],
 "metadata": {
  "interpreter": {
   "hash": "916dbcbb3f70747c44a77c7bcd40155683ae19c65e1c03b4aa3499c5328201f1"
  },
  "kernelspec": {
   "display_name": "Python 3.8.10 64-bit",
   "name": "python3"
  },
  "language_info": {
   "codemirror_mode": {
    "name": "ipython",
    "version": 3
   },
   "file_extension": ".py",
   "mimetype": "text/x-python",
   "name": "python",
   "nbconvert_exporter": "python",
   "pygments_lexer": "ipython3",
   "version": "3.8.10"
  }
 },
 "nbformat": 4,
 "nbformat_minor": 5
}
